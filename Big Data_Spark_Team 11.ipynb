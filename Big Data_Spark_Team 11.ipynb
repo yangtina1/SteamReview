{
 "cells": [
  {
   "cell_type": "code",
   "execution_count": 16,
   "id": "5971c2ec",
   "metadata": {},
   "outputs": [
    {
     "data": {
      "application/vnd.jupyter.widget-view+json": {
       "model_id": "",
       "version_major": 2,
       "version_minor": 0
      },
      "text/plain": [
       "FloatProgress(value=0.0, bar_style='info', description='Progress:', layout=Layout(height='25px', width='50%'),…"
      ]
     },
     "metadata": {},
     "output_type": "display_data"
    }
   ],
   "source": [
    "import pyspark\n",
    "from pyspark.sql import SparkSession\n",
    "from pyspark.sql import Row"
   ]
  },
  {
   "cell_type": "code",
   "execution_count": 17,
   "id": "e04c0499",
   "metadata": {},
   "outputs": [
    {
     "data": {
      "application/vnd.jupyter.widget-view+json": {
       "model_id": "",
       "version_major": 2,
       "version_minor": 0
      },
      "text/plain": [
       "FloatProgress(value=0.0, bar_style='info', description='Progress:', layout=Layout(height='25px', width='50%'),…"
      ]
     },
     "metadata": {},
     "output_type": "display_data"
    }
   ],
   "source": [
    "spark = SparkSession.builder \\\n",
    ".master(\"local\").appName(\"read_hive\").enableHiveSupport().getOrCreate()"
   ]
  },
  {
   "cell_type": "code",
   "execution_count": 18,
   "id": "c4e104d2",
   "metadata": {},
   "outputs": [
    {
     "data": {
      "application/vnd.jupyter.widget-view+json": {
       "model_id": "",
       "version_major": 2,
       "version_minor": 0
      },
      "text/plain": [
       "FloatProgress(value=0.0, bar_style='info', description='Progress:', layout=Layout(height='25px', width='50%'),…"
      ]
     },
     "metadata": {},
     "output_type": "display_data"
    },
    {
     "name": "stdout",
     "output_type": "stream",
     "text": [
      "+------------+\n",
      "|databaseName|\n",
      "+------------+\n",
      "|     default|\n",
      "+------------+"
     ]
    }
   ],
   "source": [
    "# check Hive database name\n",
    "df=spark.sql(\"show databases\")\n",
    "df.show()"
   ]
  },
  {
   "cell_type": "code",
   "execution_count": 19,
   "id": "785c4fba",
   "metadata": {},
   "outputs": [
    {
     "data": {
      "application/vnd.jupyter.widget-view+json": {
       "model_id": "",
       "version_major": 2,
       "version_minor": 0
      },
      "text/plain": [
       "FloatProgress(value=0.0, bar_style='info', description='Progress:', layout=Layout(height='25px', width='50%'),…"
      ]
     },
     "metadata": {},
     "output_type": "display_data"
    },
    {
     "name": "stdout",
     "output_type": "stream",
     "text": [
      "+--------+---------+-----------+\n",
      "|database|tableName|isTemporary|\n",
      "+--------+---------+-----------+\n",
      "| default|  reviews|      false|\n",
      "+--------+---------+-----------+"
     ]
    }
   ],
   "source": [
    "# reviews table has already been loaded from S3 to Hive on Hue with external table\n",
    "tables = spark.sql(\"show tables\").show()"
   ]
  },
  {
   "cell_type": "code",
   "execution_count": 20,
   "id": "2013103f",
   "metadata": {},
   "outputs": [
    {
     "data": {
      "application/vnd.jupyter.widget-view+json": {
       "model_id": "",
       "version_major": 2,
       "version_minor": 0
      },
      "text/plain": [
       "FloatProgress(value=0.0, bar_style='info', description='Progress:', layout=Layout(height='25px', width='50%'),…"
      ]
     },
     "metadata": {},
     "output_type": "display_data"
    },
    {
     "name": "stdout",
     "output_type": "stream",
     "text": [
      "+--------------------+\n",
      "|              review|\n",
      "+--------------------+\n",
      "|One of the best R...|\n",
      "|good story good g...|\n",
      "|             dis gud|\n",
      "|favorite game of ...|\n",
      "|Why wouldn't you ...|\n",
      "|            it is ok|\n",
      "|               worth|\n",
      "|Isn't Geralt hot ...|\n",
      "|Very Fun Would pl...|\n",
      "|The game is enjoy...|\n",
      "|The only thing bi...|\n",
      "|better than cyber...|\n",
      "|We all know you'l...|\n",
      "|best open world g...|\n",
      "|I don't think any...|\n",
      "|It's surprisingly...|\n",
      "| best game ever made|\n",
      "|Still better than...|\n",
      "|If you are a fan ...|\n",
      "|There needs to be...|\n",
      "+--------------------+"
     ]
    }
   ],
   "source": [
    "# \"review\" is the column for sentiment analysis. Take a glance at the data first. \n",
    "review = spark.sql(\"select review from default.reviews where review!= 'review' limit 20\")\n",
    "review.show()"
   ]
  },
  {
   "cell_type": "code",
   "execution_count": 21,
   "id": "5ee8f840",
   "metadata": {},
   "outputs": [
    {
     "data": {
      "application/vnd.jupyter.widget-view+json": {
       "model_id": "",
       "version_major": 2,
       "version_minor": 0
      },
      "text/plain": [
       "FloatProgress(value=0.0, bar_style='info', description='Progress:', layout=Layout(height='25px', width='50%'),…"
      ]
     },
     "metadata": {},
     "output_type": "display_data"
    }
   ],
   "source": [
    "# Data cleaning on the review text.\n",
    "# convert all words to lowercase in order to match with the positive/negative word list\n",
    "# then remove all the special characters\n",
    "# Finally, split all the words and save into a list\n",
    "from pyspark.sql import functions as F\n",
    "review = review.withColumn('review_cleaned', F.lower(F.col('review'))) \\\n",
    ".withColumn('review_cleaned', F.regexp_replace('review_cleaned', \"[^0-9A-Za-z| ]\", \"\")) \\\n",
    ".withColumn('review_cleaned', F.split('review_cleaned', ' '))"
   ]
  },
  {
   "cell_type": "code",
   "execution_count": 22,
   "id": "e9d3b020",
   "metadata": {},
   "outputs": [
    {
     "data": {
      "application/vnd.jupyter.widget-view+json": {
       "model_id": "",
       "version_major": 2,
       "version_minor": 0
      },
      "text/plain": [
       "FloatProgress(value=0.0, bar_style='info', description='Progress:', layout=Layout(height='25px', width='50%'),…"
      ]
     },
     "metadata": {},
     "output_type": "display_data"
    }
   ],
   "source": [
    "# a csv file containing a list of positive words has already been uploaded to S3\n",
    "# Read the data and store it in a list\n",
    "lines = sc.textFile('s3://bdpositivewords/positive_wordlist.csv')\n",
    "pos_words = lines.map(lambda r: Row(r)).toDF([\"line\"])\n",
    "#pos_words.collect()\n",
    "#convert to a list instead of dataframe\n",
    "pos_words=pos_words.rdd.map(lambda x: x[0]).collect()\n",
    "#print(pos_words)\n",
    "#pos_words = tuple(pos_words)"
   ]
  },
  {
   "cell_type": "code",
   "execution_count": 23,
   "id": "fdc10402",
   "metadata": {},
   "outputs": [
    {
     "data": {
      "application/vnd.jupyter.widget-view+json": {
       "model_id": "",
       "version_major": 2,
       "version_minor": 0
      },
      "text/plain": [
       "FloatProgress(value=0.0, bar_style='info', description='Progress:', layout=Layout(height='25px', width='50%'),…"
      ]
     },
     "metadata": {},
     "output_type": "display_data"
    }
   ],
   "source": [
    "# Also read the negative word list\n",
    "lines = sc.textFile('s3://bdnegativewords/negative_wordlist.csv')\n",
    "neg_words = lines.map(lambda r: Row(r)).toDF([\"line\"])\n",
    "#neg_words.collect()\n",
    "neg_words=neg_words.rdd.map(lambda x: x[0]).collect()\n",
    "#print(neg_words)"
   ]
  },
  {
   "cell_type": "code",
   "execution_count": 24,
   "id": "dba878ea",
   "metadata": {},
   "outputs": [
    {
     "data": {
      "application/vnd.jupyter.widget-view+json": {
       "model_id": "",
       "version_major": 2,
       "version_minor": 0
      },
      "text/plain": [
       "FloatProgress(value=0.0, bar_style='info', description='Progress:', layout=Layout(height='25px', width='50%'),…"
      ]
     },
     "metadata": {},
     "output_type": "display_data"
    },
    {
     "name": "stdout",
     "output_type": "stream",
     "text": [
      "<class 'list'>"
     ]
    }
   ],
   "source": [
    "# check data type\n",
    "type(pos_words)"
   ]
  },
  {
   "cell_type": "code",
   "execution_count": 25,
   "id": "ed90030a",
   "metadata": {},
   "outputs": [
    {
     "data": {
      "application/vnd.jupyter.widget-view+json": {
       "model_id": "",
       "version_major": 2,
       "version_minor": 0
      },
      "text/plain": [
       "FloatProgress(value=0.0, bar_style='info', description='Progress:', layout=Layout(height='25px', width='50%'),…"
      ]
     },
     "metadata": {},
     "output_type": "display_data"
    }
   ],
   "source": [
    "# In this function, if the review words matches the words in positive word list,\n",
    "# it counts the number of time that a positive word appears in the review\n",
    "def count_pos(review):\n",
    "    p = 0 \n",
    "    for word in review:\n",
    "        if word in pos_words:\n",
    "            p += 1\n",
    "    return p"
   ]
  },
  {
   "cell_type": "code",
   "execution_count": 26,
   "id": "66d401dc",
   "metadata": {},
   "outputs": [
    {
     "data": {
      "application/vnd.jupyter.widget-view+json": {
       "model_id": "",
       "version_major": 2,
       "version_minor": 0
      },
      "text/plain": [
       "FloatProgress(value=0.0, bar_style='info', description='Progress:', layout=Layout(height='25px', width='50%'),…"
      ]
     },
     "metadata": {},
     "output_type": "display_data"
    }
   ],
   "source": [
    "# Count for negative words\n",
    "def count_neg(review):\n",
    "    n = 0 \n",
    "    for word in review:\n",
    "        if word in neg_words:\n",
    "            n += 1\n",
    "    return n"
   ]
  },
  {
   "cell_type": "code",
   "execution_count": 27,
   "id": "2c4ecae0",
   "metadata": {},
   "outputs": [
    {
     "data": {
      "application/vnd.jupyter.widget-view+json": {
       "model_id": "",
       "version_major": 2,
       "version_minor": 0
      },
      "text/plain": [
       "FloatProgress(value=0.0, bar_style='info', description='Progress:', layout=Layout(height='25px', width='50%'),…"
      ]
     },
     "metadata": {},
     "output_type": "display_data"
    }
   ],
   "source": [
    "count_pos = F.udf(count_pos)\n",
    "count_neg = F.udf(count_neg)"
   ]
  },
  {
   "cell_type": "code",
   "execution_count": 28,
   "id": "6ef9e159",
   "metadata": {},
   "outputs": [
    {
     "data": {
      "application/vnd.jupyter.widget-view+json": {
       "model_id": "",
       "version_major": 2,
       "version_minor": 0
      },
      "text/plain": [
       "FloatProgress(value=0.0, bar_style='info', description='Progress:', layout=Layout(height='25px', width='50%'),…"
      ]
     },
     "metadata": {},
     "output_type": "display_data"
    }
   ],
   "source": [
    "# Testing: calcuate words count and sentiment \n",
    "review_test = review.withColumn(\"pos_cnt\", count_pos('review_cleaned')) \\\n",
    ".withColumn(\"neg_cnt\", count_neg('review_cleaned')) \\\n",
    ".withColumn(\"simple_sentiment\", F.col(\"pos_cnt\")/(F.col(\"pos_cnt\")+F.col(\"neg_cnt\"))) \\\n",
    ".withColumn(\"length\", F.size(\"review_cleaned\")) \\\n",
    ".withColumn(\"advanced_sentiment\", (F.col(\"pos_cnt\")-F.col(\"neg_cnt\"))/F.col(\"length\"))"
   ]
  },
  {
   "cell_type": "code",
   "execution_count": 29,
   "id": "262af8a9",
   "metadata": {},
   "outputs": [
    {
     "data": {
      "application/vnd.jupyter.widget-view+json": {
       "model_id": "",
       "version_major": 2,
       "version_minor": 0
      },
      "text/plain": [
       "FloatProgress(value=0.0, bar_style='info', description='Progress:', layout=Layout(height='25px', width='50%'),…"
      ]
     },
     "metadata": {},
     "output_type": "display_data"
    },
    {
     "name": "stdout",
     "output_type": "stream",
     "text": [
      "+--------------------+--------------------+-------+-------+------------------+------+--------------------+\n",
      "|              review|      review_cleaned|pos_cnt|neg_cnt|  simple_sentiment|length|  advanced_sentiment|\n",
      "+--------------------+--------------------+-------+-------+------------------+------+--------------------+\n",
      "|One of the best R...|[one, of, the, be...|      2|      0|               1.0|    12| 0.16666666666666666|\n",
      "|good story good g...|[good, story, goo...|      2|      0|               1.0|     7|  0.2857142857142857|\n",
      "|             dis gud|          [dis, gud]|      0|      0|              null|     2|                 0.0|\n",
      "|favorite game of ...|[favorite, game, ...|      1|      0|               1.0|    11| 0.09090909090909091|\n",
      "|Why wouldn't you ...|[why, wouldnt, yo...|      0|      0|              null|     5|                 0.0|\n",
      "|            it is ok|        [it, is, ok]|      0|      0|              null|     3|                 0.0|\n",
      "|               worth|             [worth]|      1|      0|               1.0|     1|                 1.0|\n",
      "|Isn't Geralt hot ...|[isnt, geralt, ho...|      2|      0|               1.0|    19| 0.10526315789473684|\n",
      "|Very Fun Would pl...|[very, fun, would...|      1|      0|               1.0|     5|                 0.2|\n",
      "|The game is enjoy...|[the, game, is, e...|      4|      5|0.4444444444444444|    89|-0.01123595505617...|\n",
      "|The only thing bi...|[the, only, thing...|      0|      0|              null|    11|                 0.0|\n",
      "|better than cyber...|[better, than, cy...|      1|      0|               1.0|     3|  0.3333333333333333|\n",
      "|We all know you'l...|[we, all, know, y...|      5|      0|               1.0|    40|               0.125|\n",
      "|best open world g...|[best, open, worl...|      2|      0|               1.0|     7|  0.2857142857142857|\n",
      "|I don't think any...|[i, dont, think, ...|      2|      0|               1.0|    14| 0.14285714285714285|\n",
      "|It's surprisingly...|[its, surprisingl...|      9|      2|0.8181818181818182|    80|              0.0875|\n",
      "| best game ever made|[best, game, ever...|      1|      0|               1.0|     4|                0.25|\n",
      "|Still better than...|[still, better, t...|      2|      0|               1.0|    11| 0.18181818181818182|\n",
      "|If you are a fan ...|[if, you, are, a,...|      6|      2|              0.75|    57| 0.07017543859649122|\n",
      "|There needs to be...|[there, needs, to...|      1|      0|               1.0|    12| 0.08333333333333333|\n",
      "+--------------------+--------------------+-------+-------+------------------+------+--------------------+"
     ]
    }
   ],
   "source": [
    "review_test.show()"
   ]
  },
  {
   "cell_type": "code",
   "execution_count": 30,
   "id": "c1200c75",
   "metadata": {},
   "outputs": [
    {
     "data": {
      "application/vnd.jupyter.widget-view+json": {
       "model_id": "",
       "version_major": 2,
       "version_minor": 0
      },
      "text/plain": [
       "FloatProgress(value=0.0, bar_style='info', description='Progress:', layout=Layout(height='25px', width='50%'),…"
      ]
     },
     "metadata": {},
     "output_type": "display_data"
    }
   ],
   "source": [
    "# The second approach in the last column make the sentiment score range from -1 - 1, and 0 is neutral. \n",
    "# This makes more sense and we can simplify the code to just keep the sentiment score\n",
    "\n",
    "# run on all data and simplified columns \n",
    "\n",
    "#read hive table\n",
    "reviews = spark.sql(\"select * from default.reviews where review != 'review'\")\n",
    "\n",
    "# Data cleaning\n",
    "reviews = reviews.withColumn('review_cleaned', F.lower(F.col('review'))) \\\n",
    ".withColumn('review_cleaned', F.regexp_replace('review_cleaned', \"[^0-9A-Za-z| ]\", \"\")) \\\n",
    ".withColumn('review_cleaned', F.split('review_cleaned', ' '))\n",
    "\n",
    "# Calculate sentiment score\n",
    "reviews = reviews.withColumn(\"sentiment\", (count_pos('review_cleaned')-count_neg('review_cleaned'))/F.size(\"review_cleaned\")).drop(\"review_cleaned\")\n"
   ]
  },
  {
   "cell_type": "code",
   "execution_count": 31,
   "id": "ac352b4e",
   "metadata": {},
   "outputs": [
    {
     "data": {
      "application/vnd.jupyter.widget-view+json": {
       "model_id": "",
       "version_major": 2,
       "version_minor": 0
      },
      "text/plain": [
       "FloatProgress(value=0.0, bar_style='info', description='Progress:', layout=Layout(height='25px', width='50%'),…"
      ]
     },
     "metadata": {},
     "output_type": "display_data"
    },
    {
     "name": "stdout",
     "output_type": "stream",
     "text": [
      "['review_id', 'app_id', 'author_steamid', 'review', 'timestamp_created', 'timestamp_updated', 'recommended', 'votes_helpful', 'votes_funny', 'weighted_vote_score', 'comment_count', 'sentiment']"
     ]
    }
   ],
   "source": [
    "reviews.columns"
   ]
  },
  {
   "cell_type": "code",
   "execution_count": 32,
   "id": "5db6e879",
   "metadata": {},
   "outputs": [
    {
     "data": {
      "application/vnd.jupyter.widget-view+json": {
       "model_id": "",
       "version_major": 2,
       "version_minor": 0
      },
      "text/plain": [
       "FloatProgress(value=0.0, bar_style='info', description='Progress:', layout=Layout(height='25px', width='50%'),…"
      ]
     },
     "metadata": {},
     "output_type": "display_data"
    },
    {
     "name": "stdout",
     "output_type": "stream",
     "text": [
      "+---------+--------------------+\n",
      "|review_id|           sentiment|\n",
      "+---------+--------------------+\n",
      "| 85184605| 0.16666666666666666|\n",
      "| 85184171|  0.2857142857142857|\n",
      "| 85184064|                 0.0|\n",
      "| 85180436| 0.09090909090909091|\n",
      "| 85179753|                 0.0|\n",
      "| 85179400|                 0.0|\n",
      "| 85179341|                 1.0|\n",
      "| 85178164| 0.10526315789473684|\n",
      "| 85177892|                 0.2|\n",
      "| 85174926|-0.01123595505617...|\n",
      "| 85174737|                 0.0|\n",
      "| 85172984|  0.3333333333333333|\n",
      "| 85172769|               0.125|\n",
      "| 85170596|  0.2857142857142857|\n",
      "| 85170453| 0.14285714285714285|\n",
      "| 85169788|              0.0875|\n",
      "| 85169685|                0.25|\n",
      "| 85169128| 0.18181818181818182|\n",
      "| 85169052| 0.07017543859649122|\n",
      "| 85167135| 0.08333333333333333|\n",
      "+---------+--------------------+\n",
      "only showing top 20 rows"
     ]
    }
   ],
   "source": [
    "# just view 2 columns to check\n",
    "reviews.select('review_id','sentiment').show()"
   ]
  },
  {
   "cell_type": "code",
   "execution_count": 18,
   "id": "cdf5ca78",
   "metadata": {},
   "outputs": [
    {
     "data": {
      "application/vnd.jupyter.widget-view+json": {
       "model_id": "",
       "version_major": 2,
       "version_minor": 0
      },
      "text/plain": [
       "FloatProgress(value=0.0, bar_style='info', description='Progress:', layout=Layout(height='25px', width='50%'),…"
      ]
     },
     "metadata": {},
     "output_type": "display_data"
    }
   ],
   "source": [
    "# reviews is now the full table containing all review information and a new column for sentiment score. "
   ]
  },
  {
   "cell_type": "code",
   "execution_count": 19,
   "id": "4a460765",
   "metadata": {},
   "outputs": [
    {
     "data": {
      "application/vnd.jupyter.widget-view+json": {
       "model_id": "",
       "version_major": 2,
       "version_minor": 0
      },
      "text/plain": [
       "FloatProgress(value=0.0, bar_style='info', description='Progress:', layout=Layout(height='25px', width='50%'),…"
      ]
     },
     "metadata": {},
     "output_type": "display_data"
    }
   ],
   "source": [
    "# Run ALS recommendation model\n",
    "# test with small data \n"
   ]
  },
  {
   "cell_type": "code",
   "execution_count": 20,
   "id": "68db8980",
   "metadata": {},
   "outputs": [
    {
     "data": {
      "application/vnd.jupyter.widget-view+json": {
       "model_id": "",
       "version_major": 2,
       "version_minor": 0
      },
      "text/plain": [
       "FloatProgress(value=0.0, bar_style='info', description='Progress:', layout=Layout(height='25px', width='50%'),…"
      ]
     },
     "metadata": {},
     "output_type": "display_data"
    }
   ],
   "source": [
    "# Import the required functions\n",
    "from pyspark.ml.evaluation import RegressionEvaluator\n",
    "from pyspark.ml.recommendation import ALS\n",
    "from pyspark.ml.tuning import ParamGridBuilder, CrossValidator\n"
   ]
  },
  {
   "cell_type": "code",
   "execution_count": 21,
   "id": "7b5b4ad9",
   "metadata": {},
   "outputs": [
    {
     "data": {
      "application/vnd.jupyter.widget-view+json": {
       "model_id": "",
       "version_major": 2,
       "version_minor": 0
      },
      "text/plain": [
       "FloatProgress(value=0.0, bar_style='info', description='Progress:', layout=Layout(height='25px', width='50%'),…"
      ]
     },
     "metadata": {},
     "output_type": "display_data"
    }
   ],
   "source": [
    "# Code for cross validation for reference.\n",
    "# Create ALS model\n",
    "#als = ALS(\n",
    "#         userCol=\"author_steamid\", \n",
    "#         itemCol=\"app_id\",\n",
    "#         ratingCol=\"sentiment\", \n",
    "#         nonnegative = False, \n",
    "#         implicitPrefs = False,\n",
    "#         coldStartStrategy=\"drop\"\n",
    "#)"
   ]
  },
  {
   "cell_type": "code",
   "execution_count": 22,
   "id": "609bec39",
   "metadata": {},
   "outputs": [
    {
     "data": {
      "application/vnd.jupyter.widget-view+json": {
       "model_id": "",
       "version_major": 2,
       "version_minor": 0
      },
      "text/plain": [
       "FloatProgress(value=0.0, bar_style='info', description='Progress:', layout=Layout(height='25px', width='50%'),…"
      ]
     },
     "metadata": {},
     "output_type": "display_data"
    }
   ],
   "source": [
    "# Add hyperparameters and their respective values to param_grid\n",
    "#param_grid = ParamGridBuilder() \\\n",
    "#            .addGrid(als.rank, [10, 50, 100, 150]) \\\n",
    "#            .addGrid(als.regParam, [.01, .05, .1, .15]) \\\n",
    "#            .build()"
   ]
  },
  {
   "cell_type": "code",
   "execution_count": 23,
   "id": "6ecdfd26",
   "metadata": {},
   "outputs": [
    {
     "data": {
      "application/vnd.jupyter.widget-view+json": {
       "model_id": "",
       "version_major": 2,
       "version_minor": 0
      },
      "text/plain": [
       "FloatProgress(value=0.0, bar_style='info', description='Progress:', layout=Layout(height='25px', width='50%'),…"
      ]
     },
     "metadata": {},
     "output_type": "display_data"
    }
   ],
   "source": [
    "# Define evaluator as RMSE and print length of evaluator\n",
    "#evaluator = RegressionEvaluator(\n",
    "#           metricName=\"rmse\", \n",
    "#           labelCol=\"rating\", \n",
    "#           predictionCol=\"prediction\") \n",
    "#print (\"Num models to be tested: \", len(param_grid))"
   ]
  },
  {
   "cell_type": "code",
   "execution_count": 24,
   "id": "1dafae15",
   "metadata": {},
   "outputs": [
    {
     "data": {
      "application/vnd.jupyter.widget-view+json": {
       "model_id": "",
       "version_major": 2,
       "version_minor": 0
      },
      "text/plain": [
       "FloatProgress(value=0.0, bar_style='info', description='Progress:', layout=Layout(height='25px', width='50%'),…"
      ]
     },
     "metadata": {},
     "output_type": "display_data"
    }
   ],
   "source": [
    "# Build cross validation using CrossValidator\n",
    "#cv = CrossValidator(estimator=als, estimatorParamMaps=param_grid, evaluator=evaluator, numFolds=5)"
   ]
  },
  {
   "cell_type": "code",
   "execution_count": 25,
   "id": "6961bb4c",
   "metadata": {},
   "outputs": [
    {
     "data": {
      "application/vnd.jupyter.widget-view+json": {
       "model_id": "",
       "version_major": 2,
       "version_minor": 0
      },
      "text/plain": [
       "FloatProgress(value=0.0, bar_style='info', description='Progress:', layout=Layout(height='25px', width='50%'),…"
      ]
     },
     "metadata": {},
     "output_type": "display_data"
    }
   ],
   "source": [
    "# smaller table for testing\n",
    "\n",
    "#read hive table\n",
    "reviews_small = spark.sql(\"select * from default.reviews where review != 'review' limit 100000\")\n",
    "\n",
    "#Data cleaning\n",
    "reviews_small = reviews_small.withColumn('review_cleaned', F.lower(F.col('review'))) \\\n",
    ".withColumn('review_cleaned', F.regexp_replace('review_cleaned', \"[^0-9A-Za-z| ]\", \"\")) \\\n",
    ".withColumn('review_cleaned', F.split('review_cleaned', ' '))\n",
    "\n",
    "# Calculate sentiment score\n",
    "reviews_small = reviews_small.withColumn(\"sentiment\", (count_pos('review_cleaned')-count_neg('review_cleaned'))/F.size(\"review_cleaned\")).drop(\"review_cleaned\")\n",
    "#reviews_small = reviews_small.withColumn(\"sentiment\", (count_pos('review_cleaned'))/F.size(\"review_cleaned\")).drop(\"review_cleaned\")\n",
    "#adjust to positive only!!!!"
   ]
  },
  {
   "cell_type": "code",
   "execution_count": 26,
   "id": "58927538",
   "metadata": {},
   "outputs": [
    {
     "data": {
      "application/vnd.jupyter.widget-view+json": {
       "model_id": "",
       "version_major": 2,
       "version_minor": 0
      },
      "text/plain": [
       "FloatProgress(value=0.0, bar_style='info', description='Progress:', layout=Layout(height='25px', width='50%'),…"
      ]
     },
     "metadata": {},
     "output_type": "display_data"
    },
    {
     "name": "stdout",
     "output_type": "stream",
     "text": [
      "+---------+------+-----------------+--------------------+-----------------+-----------------+-----------+-------------+-----------+-------------------+-------------+--------------------+\n",
      "|review_id|app_id|   author_steamid|              review|timestamp_created|timestamp_updated|recommended|votes_helpful|votes_funny|weighted_vote_score|comment_count|           sentiment|\n",
      "+---------+------+-----------------+--------------------+-----------------+-----------------+-----------+-------------+-----------+-------------------+-------------+--------------------+\n",
      "| 85184605|292030|76561199054755373|One of the best R...|       1611379970|       1611379970|       true|            0|          0|                0.0|            0| 0.16666666666666666|\n",
      "| 85184171|292030|76561198170193529|good story good g...|       1611379264|       1611379264|       true|            0|          0|                0.0|            0|  0.2857142857142857|\n",
      "| 85184064|292030|76561198119302812|             dis gud|       1611379091|       1611379091|       true|            0|          0|                0.0|            0|                 0.0|\n",
      "| 85180436|292030|76561198065591528|favorite game of ...|       1611373086|       1611373086|       true|            0|          0|                0.0|            0| 0.09090909090909091|\n",
      "| 85179753|292030|76561198996835044|Why wouldn't you ...|       1611371978|       1611371978|       true|            0|          0|                0.0|            0|                 0.0|\n",
      "| 85179400|292030|76561198284845223|            it is ok|       1611371392|       1611371392|       true|            0|          0|                0.0|            0|                 0.0|\n",
      "| 85179341|292030|76561198370568524|               worth|       1611371318|       1611371318|       true|            0|          0|                0.0|            0|                 1.0|\n",
      "| 85178164|292030|76561198040150323|Isn't Geralt hot ...|       1611369478|       1611369478|       true|            0|          0|                0.0|            0| 0.10526315789473684|\n",
      "| 85177892|292030|76561198040190687|Very Fun Would pl...|       1611369121|       1611369121|       true|            0|          0|                0.0|            0|                 0.2|\n",
      "| 85174926|292030|76561198020027165|The game is enjoy...|       1611364401|       1611364470|       true|            0|          0|                0.0|            0|-0.01123595505617...|\n",
      "| 85174737|292030|76561199001673284|The only thing bi...|       1611364088|       1611364088|       true|            0|          0|                0.0|            0|                 0.0|\n",
      "| 85172984|292030|76561198033304276|better than cyber...|       1611361171|       1611361171|       true|            0|          0|                0.0|            0|  0.3333333333333333|\n",
      "| 85172769|292030|76561198116559597|We all know you'l...|       1611360805|       1611360805|       true|            0|          0|                0.0|            0|               0.125|\n",
      "| 85170596|292030|76561198299050034|best open world g...|       1611357533|       1611357533|       true|            0|          0|                0.0|            0|  0.2857142857142857|\n",
      "| 85170453|292030|76561198080678414|I don't think any...|       1611357290|       1611357290|       true|            0|          1|                0.0|            0| 0.14285714285714285|\n",
      "| 85169788|292030|76561198352439354|It's surprisingly...|       1611356341|       1611356341|       true|            0|          0|                0.0|            0|              0.0875|\n",
      "| 85169685|292030|76561198868423923| best game ever made|       1611356191|       1611356191|       true|            0|          0|                0.0|            0|                0.25|\n",
      "| 85169128|292030|76561197993334693|Still better than...|       1611355450|       1611355450|       true|            0|          0|                0.0|            0| 0.18181818181818182|\n",
      "| 85169052|292030|76561198869011330|If you are a fan ...|       1611355332|       1611355332|       true|            0|          0|                0.0|            0| 0.07017543859649122|\n",
      "| 85167135|292030|76561198878346949|There needs to be...|       1611352633|       1611352633|       true|            0|          0|                0.0|            0| 0.08333333333333333|\n",
      "+---------+------+-----------------+--------------------+-----------------+-----------------+-----------+-------------+-----------+-------------------+-------------+--------------------+\n",
      "only showing top 20 rows"
     ]
    }
   ],
   "source": [
    "reviews_small.show()"
   ]
  },
  {
   "cell_type": "code",
   "execution_count": 27,
   "id": "2544ffa4",
   "metadata": {},
   "outputs": [
    {
     "data": {
      "application/vnd.jupyter.widget-view+json": {
       "model_id": "",
       "version_major": 2,
       "version_minor": 0
      },
      "text/plain": [
       "FloatProgress(value=0.0, bar_style='info', description='Progress:', layout=Layout(height='25px', width='50%'),…"
      ]
     },
     "metadata": {},
     "output_type": "display_data"
    }
   ],
   "source": [
    "# small dataset\n",
    "\n",
    "# subset data with only the 3 columns needed for the model\n",
    "als_data = reviews_small.select(\"author_steamid\",\"app_id\",\"sentiment\")\n",
    "\n",
    "#als_data = spark.createDataFrame(als_data.tail(als_data.count()-1), als_data.schema)\n",
    "#firstRow=als_data.first()\n",
    "#als_data=als_data.filter(line -> line != firstRow)\n",
    "#als_data.withColumn(\"author_steamid\", F.col(\"author_steamid\").cast(\"int\"))\n",
    "#from pyspark.sql.types import DoubleType\n",
    "#als_data = als_data.withColumn(\"author_steamid\", F.col(\"author_steamid\").cast(DoubleType()))\n",
    "#from pyspark.sql.types import LongType\n",
    "#als_data = als_data.withColumn(\"author_steamid\", F.col(\"author_steamid\").cast(LongType()))\n",
    "#als_data = als_data.withColumn(\"app_id\", F.col(\"app_id\").cast(\"int\"))\n",
    "#als_data = als_data.dropna()"
   ]
  },
  {
   "cell_type": "code",
   "execution_count": 28,
   "id": "b517b4a9",
   "metadata": {},
   "outputs": [
    {
     "data": {
      "application/vnd.jupyter.widget-view+json": {
       "model_id": "",
       "version_major": 2,
       "version_minor": 0
      },
      "text/plain": [
       "FloatProgress(value=0.0, bar_style='info', description='Progress:', layout=Layout(height='25px', width='50%'),…"
      ]
     },
     "metadata": {},
     "output_type": "display_data"
    }
   ],
   "source": [
    "# re-run with all data\n",
    "#als_data = reviews.select(\"author_steamid\",\"app_id\",\"sentiment\")"
   ]
  },
  {
   "cell_type": "code",
   "execution_count": 29,
   "id": "0d89820e",
   "metadata": {},
   "outputs": [
    {
     "data": {
      "application/vnd.jupyter.widget-view+json": {
       "model_id": "",
       "version_major": 2,
       "version_minor": 0
      },
      "text/plain": [
       "FloatProgress(value=0.0, bar_style='info', description='Progress:', layout=Layout(height='25px', width='50%'),…"
      ]
     },
     "metadata": {},
     "output_type": "display_data"
    },
    {
     "name": "stdout",
     "output_type": "stream",
     "text": [
      "+-----------------+------+--------------------+\n",
      "|   author_steamid|app_id|           sentiment|\n",
      "+-----------------+------+--------------------+\n",
      "|76561199054755373|292030| 0.16666666666666666|\n",
      "|76561198170193529|292030|  0.2857142857142857|\n",
      "|76561198119302812|292030|                 0.0|\n",
      "|76561198065591528|292030| 0.09090909090909091|\n",
      "|76561198996835044|292030|                 0.0|\n",
      "|76561198284845223|292030|                 0.0|\n",
      "|76561198370568524|292030|                 1.0|\n",
      "|76561198040150323|292030| 0.10526315789473684|\n",
      "|76561198040190687|292030|                 0.2|\n",
      "|76561198020027165|292030|-0.01123595505617...|\n",
      "|76561199001673284|292030|                 0.0|\n",
      "|76561198033304276|292030|  0.3333333333333333|\n",
      "|76561198116559597|292030|               0.125|\n",
      "|76561198299050034|292030|  0.2857142857142857|\n",
      "|76561198080678414|292030| 0.14285714285714285|\n",
      "|76561198352439354|292030|              0.0875|\n",
      "|76561198868423923|292030|                0.25|\n",
      "|76561197993334693|292030| 0.18181818181818182|\n",
      "|76561198869011330|292030| 0.07017543859649122|\n",
      "|76561198878346949|292030| 0.08333333333333333|\n",
      "+-----------------+------+--------------------+\n",
      "only showing top 20 rows"
     ]
    }
   ],
   "source": [
    "als_data.show()"
   ]
  },
  {
   "cell_type": "code",
   "execution_count": 30,
   "id": "3ca00fe1",
   "metadata": {},
   "outputs": [
    {
     "data": {
      "application/vnd.jupyter.widget-view+json": {
       "model_id": "",
       "version_major": 2,
       "version_minor": 0
      },
      "text/plain": [
       "FloatProgress(value=0.0, bar_style='info', description='Progress:', layout=Layout(height='25px', width='50%'),…"
      ]
     },
     "metadata": {},
     "output_type": "display_data"
    },
    {
     "name": "stdout",
     "output_type": "stream",
     "text": [
      "root\n",
      " |-- author_steamid: string (nullable = true)\n",
      " |-- app_id: integer (nullable = true)\n",
      " |-- sentiment: double (nullable = true)"
     ]
    }
   ],
   "source": [
    "als_data.printSchema()\n",
    "# the author_steamid is in string format"
   ]
  },
  {
   "cell_type": "code",
   "execution_count": 31,
   "id": "96d7e685",
   "metadata": {},
   "outputs": [
    {
     "data": {
      "application/vnd.jupyter.widget-view+json": {
       "model_id": "",
       "version_major": 2,
       "version_minor": 0
      },
      "text/plain": [
       "FloatProgress(value=0.0, bar_style='info', description='Progress:', layout=Layout(height='25px', width='50%'),…"
      ]
     },
     "metadata": {},
     "output_type": "display_data"
    }
   ],
   "source": [
    "# The ALS model requires id to be in numeric format. In the previous testing, \n",
    "# both integer and long data type are not working \n",
    "# Try with string indexer, which convert string into an index number\n",
    "from pyspark.ml.feature import StringIndexer\n",
    "stringindexer = StringIndexer().setInputCol(\"author_steamid\").setOutputCol(\"author_steamid_num\")\n",
    "modelc = stringindexer.fit(als_data)\n",
    "als_data = modelc.transform(als_data)"
   ]
  },
  {
   "cell_type": "code",
   "execution_count": 32,
   "id": "abc49c94",
   "metadata": {},
   "outputs": [
    {
     "data": {
      "application/vnd.jupyter.widget-view+json": {
       "model_id": "",
       "version_major": 2,
       "version_minor": 0
      },
      "text/plain": [
       "FloatProgress(value=0.0, bar_style='info', description='Progress:', layout=Layout(height='25px', width='50%'),…"
      ]
     },
     "metadata": {},
     "output_type": "display_data"
    },
    {
     "name": "stdout",
     "output_type": "stream",
     "text": [
      "root\n",
      " |-- author_steamid: string (nullable = true)\n",
      " |-- app_id: integer (nullable = true)\n",
      " |-- sentiment: double (nullable = true)\n",
      " |-- author_steamid_num: double (nullable = false)"
     ]
    }
   ],
   "source": [
    "# check the schema, the data type is correct. \n",
    "als_data.printSchema()"
   ]
  },
  {
   "cell_type": "code",
   "execution_count": 33,
   "id": "0127d4c7",
   "metadata": {},
   "outputs": [
    {
     "data": {
      "application/vnd.jupyter.widget-view+json": {
       "model_id": "",
       "version_major": 2,
       "version_minor": 0
      },
      "text/plain": [
       "FloatProgress(value=0.0, bar_style='info', description='Progress:', layout=Layout(height='25px', width='50%'),…"
      ]
     },
     "metadata": {},
     "output_type": "display_data"
    }
   ],
   "source": [
    "# Create test and train set\n",
    "(train, test) = als_data.randomSplit([0.8, 0.2], seed = 42)"
   ]
  },
  {
   "cell_type": "code",
   "execution_count": 34,
   "id": "0d417ed6",
   "metadata": {},
   "outputs": [
    {
     "data": {
      "application/vnd.jupyter.widget-view+json": {
       "model_id": "",
       "version_major": 2,
       "version_minor": 0
      },
      "text/plain": [
       "FloatProgress(value=0.0, bar_style='info', description='Progress:', layout=Layout(height='25px', width='50%'),…"
      ]
     },
     "metadata": {},
     "output_type": "display_data"
    },
    {
     "name": "stdout",
     "output_type": "stream",
     "text": [
      "root\n",
      " |-- author_steamid: string (nullable = true)\n",
      " |-- app_id: integer (nullable = true)\n",
      " |-- sentiment: double (nullable = true)\n",
      " |-- author_steamid_num: double (nullable = false)"
     ]
    }
   ],
   "source": [
    "train.printSchema()"
   ]
  },
  {
   "cell_type": "code",
   "execution_count": 35,
   "id": "9dc89109",
   "metadata": {},
   "outputs": [
    {
     "data": {
      "application/vnd.jupyter.widget-view+json": {
       "model_id": "",
       "version_major": 2,
       "version_minor": 0
      },
      "text/plain": [
       "FloatProgress(value=0.0, bar_style='info', description='Progress:', layout=Layout(height='25px', width='50%'),…"
      ]
     },
     "metadata": {},
     "output_type": "display_data"
    }
   ],
   "source": [
    "# Build the ALS model with the user (steamid), item (game app_id), and rating (sentiment score) column\n",
    "als = ALS(\n",
    "         userCol=\"author_steamid_num\", \n",
    "         itemCol=\"app_id\",\n",
    "         ratingCol=\"sentiment\", \n",
    "         nonnegative = False, \n",
    "         implicitPrefs = False,\n",
    "         coldStartStrategy=\"drop\"\n",
    ")"
   ]
  },
  {
   "cell_type": "code",
   "execution_count": 36,
   "id": "ca37d960",
   "metadata": {},
   "outputs": [
    {
     "data": {
      "application/vnd.jupyter.widget-view+json": {
       "model_id": "",
       "version_major": 2,
       "version_minor": 0
      },
      "text/plain": [
       "FloatProgress(value=0.0, bar_style='info', description='Progress:', layout=Layout(height='25px', width='50%'),…"
      ]
     },
     "metadata": {},
     "output_type": "display_data"
    }
   ],
   "source": [
    "# fit the ALS model with train data\n",
    "model = als.fit(train)"
   ]
  },
  {
   "cell_type": "code",
   "execution_count": 37,
   "id": "660491c6",
   "metadata": {},
   "outputs": [
    {
     "data": {
      "application/vnd.jupyter.widget-view+json": {
       "model_id": "",
       "version_major": 2,
       "version_minor": 0
      },
      "text/plain": [
       "FloatProgress(value=0.0, bar_style='info', description='Progress:', layout=Layout(height='25px', width='50%'),…"
      ]
     },
     "metadata": {},
     "output_type": "display_data"
    }
   ],
   "source": [
    "predictions = model.transform(test)"
   ]
  },
  {
   "cell_type": "code",
   "execution_count": 38,
   "id": "f6a2b094",
   "metadata": {},
   "outputs": [
    {
     "data": {
      "application/vnd.jupyter.widget-view+json": {
       "model_id": "",
       "version_major": 2,
       "version_minor": 0
      },
      "text/plain": [
       "FloatProgress(value=0.0, bar_style='info', description='Progress:', layout=Layout(height='25px', width='50%'),…"
      ]
     },
     "metadata": {},
     "output_type": "display_data"
    }
   ],
   "source": [
    "# recommend one game for all users\n",
    "# number can be changed if we need more games\n",
    "userRecs = model.recommendForAllUsers(1)"
   ]
  },
  {
   "cell_type": "code",
   "execution_count": 39,
   "id": "a3872151",
   "metadata": {},
   "outputs": [
    {
     "data": {
      "application/vnd.jupyter.widget-view+json": {
       "model_id": "",
       "version_major": 2,
       "version_minor": 0
      },
      "text/plain": [
       "FloatProgress(value=0.0, bar_style='info', description='Progress:', layout=Layout(height='25px', width='50%'),…"
      ]
     },
     "metadata": {},
     "output_type": "display_data"
    },
    {
     "name": "stdout",
     "output_type": "stream",
     "text": [
      "+------------------+--------------------+\n",
      "|author_steamid_num|     recommendations|\n",
      "+------------------+--------------------+\n",
      "|                12|[[292030, 0.01316...|\n",
      "|                76|     [[292030, 0.0]]|\n",
      "|                81|[[292030, 0.21949...|\n",
      "|               126|[[292030, 0.13169...|\n",
      "|               133|[[292030, 0.08231...|\n",
      "|               148|[[292030, 0.65849...|\n",
      "|               177|[[292030, 0.02993...|\n",
      "|               192|[[292030, 0.09407...|\n",
      "|               209|[[292030, 0.03658...|\n",
      "|               243|     [[292030, 0.0]]|\n",
      "|               300|[[292030, 0.32924...|\n",
      "|               333|[[292030, 0.01431...|\n",
      "|               406|[[292030, 0.21949...|\n",
      "|               417|[[292030, 0.06931...|\n",
      "|               444|     [[292030, 0.0]]|\n",
      "|               481|[[292030, 0.08496...|\n",
      "|               496|[[292030, 0.10130...|\n",
      "|               539|[[292030, 0.03135...|\n",
      "|               548|[[292030, 0.02235...|\n",
      "|               577|[[292030, 0.13169...|\n",
      "+------------------+--------------------+\n",
      "only showing top 20 rows"
     ]
    }
   ],
   "source": [
    "userRecs.show()"
   ]
  },
  {
   "cell_type": "code",
   "execution_count": null,
   "id": "bf75d2b6",
   "metadata": {},
   "outputs": [],
   "source": []
  }
 ],
 "metadata": {
  "kernelspec": {
   "display_name": "PySpark",
   "language": "python",
   "name": "pysparkkernel"
  },
  "language_info": {
   "codemirror_mode": {
    "name": "python",
    "version": 3
   },
   "file_extension": ".py",
   "mimetype": "text/x-python",
   "name": "pyspark",
   "pygments_lexer": "python3"
  }
 },
 "nbformat": 4,
 "nbformat_minor": 5
}
